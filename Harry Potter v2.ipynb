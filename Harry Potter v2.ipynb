{
 "cells": [
  {
   "cell_type": "code",
   "execution_count": 2,
   "metadata": {},
   "outputs": [],
   "source": [
    "import numpy as np\n",
    "from IPython import display"
   ]
  },
  {
   "cell_type": "markdown",
   "metadata": {},
   "source": [
    "## Scenario - Harry in the prision\n",
    "Harry wants to rescue his god father .\n",
    "* He needs to go through a strong windy enviroment.\n",
    "\n",
    "He most avoid some really strong air currents.\n",
    "\n",
    "In order to ensure maximum reward, Harry will need to learn the less conflicted path between his godfather while going the through the air currents. \n",
    "* We will use Q-learning to help him!"
   ]
  },
  {
   "cell_type": "markdown",
   "metadata": {},
   "source": [
    "## Define the Environment\n",
    "The environment consists of **states**, **actions**, and **rewards**. States and actions are inputs for the Q-learning AI agent, while the possible actions are the AI agent's outputs.\n",
    "#### States\n",
    "The states in the environment are all of the possible locations in the windy camp. Some of these locations have strong air currents (**ARROWS**), while other locations are free of currents where haryy  can use to fly throughout the camp with out getting blow (**white squares**). The **G square** indicates his godfather location.\n",
    "\n",
    "The  G is the **terminal state**!"
   ]
  },
  {
   "cell_type": "markdown",
   "metadata": {},
   "source": [
    "As shown in the image above, there are 63 possible states (locations) within the camp. These states are arranged in a grid containing 7 rows and 9 columns. Each location can  be identified by its row and column index"
   ]
  },
  {
   "cell_type": "code",
   "execution_count": 3,
   "metadata": {},
   "outputs": [
    {
     "data": {
      "image/png": "[encoded data removed]",
      "text/plain": [
       "<IPython.core.display.Image object>"
      ]
     },
     "execution_count": 3,
     "metadata": {},
     "output_type": "execute_result"
    }
   ],
   "source": [
    "display.Image(\"./assets/Camp map.png\")"
   ]
  },
  {
   "cell_type": "code",
   "execution_count": 4,
   "metadata": {},
   "outputs": [],
   "source": [
    "#define the shape of the environment (i.e., its states)\n",
    "environment_rows = 7\n",
    "environment_columns = 9\n",
    "\n",
    "#Create a 3D numpy array to hold the current Q-values for each state and action pair: Q(s, a) \n",
    "#The array contains 11 rows and 11 columns (to match the shape of the environment), as well as a third \"action\" dimension.\n",
    "#The \"action\" dimension consists of 4 layers that will allow us to keep track of the Q-values for each possible action in\n",
    "#each state (see next cell for a description of possible actions). \n",
    "#The value of each (state, action) pair is initialized to 0.\n",
    "q_values = np.zeros((environment_columns, environment_rows, 9))"
   ]
  },
  {
   "cell_type": "code",
   "execution_count": 5,
   "metadata": {},
   "outputs": [
    {
     "data": {
      "text/plain": [
       "array([[[0., 0., 0., 0., 0., 0., 0., 0., 0.],\n",
       "        [0., 0., 0., 0., 0., 0., 0., 0., 0.],\n",
       "        [0., 0., 0., 0., 0., 0., 0., 0., 0.],\n",
       "        [0., 0., 0., 0., 0., 0., 0., 0., 0.],\n",
       "        [0., 0., 0., 0., 0., 0., 0., 0., 0.],\n",
       "        [0., 0., 0., 0., 0., 0., 0., 0., 0.],\n",
       "        [0., 0., 0., 0., 0., 0., 0., 0., 0.]],\n",
       "\n",
       "       [[0., 0., 0., 0., 0., 0., 0., 0., 0.],\n",
       "        [0., 0., 0., 0., 0., 0., 0., 0., 0.],\n",
       "        [0., 0., 0., 0., 0., 0., 0., 0., 0.],\n",
       "        [0., 0., 0., 0., 0., 0., 0., 0., 0.],\n",
       "        [0., 0., 0., 0., 0., 0., 0., 0., 0.],\n",
       "        [0., 0., 0., 0., 0., 0., 0., 0., 0.],\n",
       "        [0., 0., 0., 0., 0., 0., 0., 0., 0.]],\n",
       "\n",
       "       [[0., 0., 0., 0., 0., 0., 0., 0., 0.],\n",
       "        [0., 0., 0., 0., 0., 0., 0., 0., 0.],\n",
       "        [0., 0., 0., 0., 0., 0., 0., 0., 0.],\n",
       "        [0., 0., 0., 0., 0., 0., 0., 0., 0.],\n",
       "        [0., 0., 0., 0., 0., 0., 0., 0., 0.],\n",
       "        [0., 0., 0., 0., 0., 0., 0., 0., 0.],\n",
       "        [0., 0., 0., 0., 0., 0., 0., 0., 0.]],\n",
       "\n",
       "       [[0., 0., 0., 0., 0., 0., 0., 0., 0.],\n",
       "        [0., 0., 0., 0., 0., 0., 0., 0., 0.],\n",
       "        [0., 0., 0., 0., 0., 0., 0., 0., 0.],\n",
       "        [0., 0., 0., 0., 0., 0., 0., 0., 0.],\n",
       "        [0., 0., 0., 0., 0., 0., 0., 0., 0.],\n",
       "        [0., 0., 0., 0., 0., 0., 0., 0., 0.],\n",
       "        [0., 0., 0., 0., 0., 0., 0., 0., 0.]],\n",
       "\n",
       "       [[0., 0., 0., 0., 0., 0., 0., 0., 0.],\n",
       "        [0., 0., 0., 0., 0., 0., 0., 0., 0.],\n",
       "        [0., 0., 0., 0., 0., 0., 0., 0., 0.],\n",
       "        [0., 0., 0., 0., 0., 0., 0., 0., 0.],\n",
       "        [0., 0., 0., 0., 0., 0., 0., 0., 0.],\n",
       "        [0., 0., 0., 0., 0., 0., 0., 0., 0.],\n",
       "        [0., 0., 0., 0., 0., 0., 0., 0., 0.]],\n",
       "\n",
       "       [[0., 0., 0., 0., 0., 0., 0., 0., 0.],\n",
       "        [0., 0., 0., 0., 0., 0., 0., 0., 0.],\n",
       "        [0., 0., 0., 0., 0., 0., 0., 0., 0.],\n",
       "        [0., 0., 0., 0., 0., 0., 0., 0., 0.],\n",
       "        [0., 0., 0., 0., 0., 0., 0., 0., 0.],\n",
       "        [0., 0., 0., 0., 0., 0., 0., 0., 0.],\n",
       "        [0., 0., 0., 0., 0., 0., 0., 0., 0.]],\n",
       "\n",
       "       [[0., 0., 0., 0., 0., 0., 0., 0., 0.],\n",
       "        [0., 0., 0., 0., 0., 0., 0., 0., 0.],\n",
       "        [0., 0., 0., 0., 0., 0., 0., 0., 0.],\n",
       "        [0., 0., 0., 0., 0., 0., 0., 0., 0.],\n",
       "        [0., 0., 0., 0., 0., 0., 0., 0., 0.],\n",
       "        [0., 0., 0., 0., 0., 0., 0., 0., 0.],\n",
       "        [0., 0., 0., 0., 0., 0., 0., 0., 0.]],\n",
       "\n",
       "       [[0., 0., 0., 0., 0., 0., 0., 0., 0.],\n",
       "        [0., 0., 0., 0., 0., 0., 0., 0., 0.],\n",
       "        [0., 0., 0., 0., 0., 0., 0., 0., 0.],\n",
       "        [0., 0., 0., 0., 0., 0., 0., 0., 0.],\n",
       "        [0., 0., 0., 0., 0., 0., 0., 0., 0.],\n",
       "        [0., 0., 0., 0., 0., 0., 0., 0., 0.],\n",
       "        [0., 0., 0., 0., 0., 0., 0., 0., 0.]],\n",
       "\n",
       "       [[0., 0., 0., 0., 0., 0., 0., 0., 0.],\n",
       "        [0., 0., 0., 0., 0., 0., 0., 0., 0.],\n",
       "        [0., 0., 0., 0., 0., 0., 0., 0., 0.],\n",
       "        [0., 0., 0., 0., 0., 0., 0., 0., 0.],\n",
       "        [0., 0., 0., 0., 0., 0., 0., 0., 0.],\n",
       "        [0., 0., 0., 0., 0., 0., 0., 0., 0.],\n",
       "        [0., 0., 0., 0., 0., 0., 0., 0., 0.]]])"
      ]
     },
     "execution_count": 5,
     "metadata": {},
     "output_type": "execute_result"
    }
   ],
   "source": [
    "q_values"
   ]
  },
  {
   "cell_type": "code",
   "execution_count": 12,
   "metadata": {},
   "outputs": [],
   "source": [
    "#define actions\n",
    "#numeric action codes: 0 = nort, 1 = east, 2 = sur, 3 = west\n",
    "actions = ['nort', 'east', 'sur', 'west']"
   ]
  },
  {
   "cell_type": "markdown",
   "metadata": {},
   "source": [
    "the AI agent must learn to avoid driving into the windy locations "
   ]
  },
  {
   "cell_type": "markdown",
   "metadata": {},
   "source": [
    "#### Rewards\n",
    "The last component of the environment that we need to define are the **rewards**. \n",
    "\n",
    "To help the AI agent learn, each state (location) in the camp is assigned a reward value.\n",
    "\n",
    "The agent may begin at the S position, but its goal is always the same: ***to maximize its total rewards***!\n",
    "\n",
    "Negative rewards **punishments**) are used for some states except the goal.\n",
    "* This encourages the AI to identify the *shortest path* to the goal by *minimizing its punishments*!\n",
    "* In the mediums columns it must figure out how to get out of there, fin"
   ]
  },
  {
   "cell_type": "markdown",
   "metadata": {},
   "source": [
    "To maximize its cumulative rewards (by minimizing its cumulative punishments), the AI agent will need find the shortest paths between the Sirius (green square) and all of the other locations in the camp where the harry can be (white squares). The agent will also need to learn to avoid the windy locations (black squares)!"
   ]
  },
  {
   "cell_type": "code",
   "execution_count": 15,
   "metadata": {},
   "outputs": [
    {
     "name": "stdout",
     "output_type": "stream",
     "text": [
      "[ 1.  1.  1. -3. -3. -3.  1.  1.  1.]\n",
      "[ 1.  1.  1. -3. -3. -3.  1.  1.  1.]\n",
      "[ 1.  1.  1. -2. -2. -2.  1.  1.  1.]\n",
      "[ 1.  1.  1. -2. -2. -2.  1.  1.  1.]\n",
      "[  1.   1.   1.  -2.  -2.  -2.   1. 100.   1.]\n",
      "[ 1.  1.  1. -2. -2. -2.  1.  1.  1.]\n",
      "[1. 1. 1. 1. 1. 1. 1. 1. 1.]\n"
     ]
    }
   ],
   "source": [
    "#Create a 2D numpy array to hold the rewards for each state. \n",
    "#The array contains 7 rows and 9 columns (to match the shape of the environment).\n",
    "rewards = np.full((environment_rows, environment_columns), 1.)\n",
    "rewards[4, 7] = 100. #set the reward for the Sirius plcae (the goal) to 100\n",
    "\n",
    "#define safe locations (white squares) for rows 0 through 6\n",
    "safeP = {} #store locations in a dictionary\n",
    "safeP[0] = [3,4,5]\n",
    "safeP[1] = [3,4,5]\n",
    "safeP[2] = [3,4,5]\n",
    "safeP[3] = [3,4,5]\n",
    "safeP[4] = [3,4,5]\n",
    "safeP[5] = [3,4,5]\n",
    "safeP[6] = [3,4,5]\n",
    "\n",
    "\n",
    "\n",
    "#set the rewards for all aisle locations (i.e., white squares)\n",
    "for row_index in range(0,7):\n",
    "    for column_index in safeP[row_index]:\n",
    "        rewards[row_index, column_index] = 1.\n",
    "        rewards[row_index-1, column_index] = -2.\n",
    "        rewards[row_index-5, column_index] = -3.\n",
    "  \n",
    "    #print rewards matrix\n",
    "for row in rewards:\n",
    "    print(row)"
   ]
  },
  {
   "cell_type": "markdown",
   "metadata": {},
   "source": [
    "The penalization is greater when it reachs the top"
   ]
  },
  {
   "cell_type": "markdown",
   "metadata": {},
   "source": [
    "## Train the Model\n",
    "Our next task is for our AI agent to learn about its environment by implementing a Q-learning model. The learning process will follow these steps:\n",
    "1. Choose a random, non-terminal state (white square) for the agent to begin this new episode.\n",
    "2. Choose an action (move *nort*, *east*, *sur*, or *west*) for the current state. Actions will be chosen using an *epsilon greedy algorithm*. This algorithm will usually choose the most promising action for the AI agent, but it will occasionally choose a less promising option in order to encourage the agent to explore the environment.\n",
    "3. Perform the chosen action, and transition to the next state (move to the next location).\n",
    "4. Receive the reward for moving to the new state, and calculate the temporal difference.\n",
    "5. Update the Q-value for the previous state and action pair.\n",
    "6. If the new (current) state is a terminal state, you won\n",
    "This entire process will be repeated across 1000 episodes. This will provide the AI agent sufficient opportunity to learn \n",
    "#### Define Helper Functions"
   ]
  },
  {
   "cell_type": "code",
   "execution_count": 26,
   "metadata": {},
   "outputs": [],
   "source": [
    "#define a function that determines if the  location is a terminal state\n",
    "def is_terminal_state(current_row_index, current_column_index):\n",
    "  #if the reward for this location is 1, then it is not a terminal state \n",
    "  if rewards[current_row_index, current_column_index] == 100.:\n",
    "    return True\n",
    "  else:\n",
    "    return False\n",
    "def is_change_action(current_row_index, current_column_index):\n",
    "  #if the reward for this location is 1, then it is not a terminal state \n",
    "  if rewards[current_row_index, current_column_index] != 1.:\n",
    "    return True\n",
    "  else:\n",
    "    return False\n",
    "#starting location\n",
    "def get_starting_location():\n",
    "    current_row_index = 1\n",
    "    current_column_index = 1\n",
    "    return current_row_index, current_column_index\n",
    "\n",
    "#define an epsilon greedy algorithm that will choose which action to take next \n",
    "def get_next_action(current_row_index, current_column_index, epsilon):\n",
    "    #if a randomly chosen value between 0 and 1 is less than epsilon, \n",
    "   #Constrains\n",
    "    if current_column_index == 3:\n",
    "        if np.random.random() == 0.2:\n",
    "            action_index = 0\n",
    "    if current_column_index == 4:\n",
    "        if np.random.random() == 0.3:\n",
    "            action_index = 0\n",
    "    if current_column_index == 5:\n",
    "        if np.random.random() == 0.25:\n",
    "            action_index = 0\n",
    "    #then choose the most promising value from the Q-table for this state.\n",
    "    if np.random.random() < epsilon:\n",
    "        return np.argmax(q_values[current_row_index, current_column_index])\n",
    "    else: #choose a random action\n",
    "        return np.random.randint(4)\n",
    "\n",
    "#define a function that will get the next location based on the chosen action\n",
    "def get_next_location(current_row_index, current_column_index, action_index):\n",
    "    new_row_index = current_row_index\n",
    "    new_column_index = current_column_index\n",
    "    if actions[action_index] == 'nort' and current_row_index > 0:\n",
    "        new_row_index -= 1\n",
    "    elif actions[action_index] == 'east' and current_column_index < environment_columns - 1:\n",
    "        new_column_index += 1\n",
    "    elif actions[action_index] == 'sur' and current_row_index < environment_rows - 1:\n",
    "        new_row_index += 1\n",
    "    elif actions[action_index] == 'west' and current_column_index > -1:\n",
    "        new_column_index -= 1\n",
    "    return new_row_index, new_column_index\n",
    "\n",
    "#Define a function that will get the shortest path between any location within the camp that \n",
    "#Harry is allowed to continue.\n",
    "def get_the_less_conflicted_path(start_row_index, start_column_index):\n",
    "    if is_terminal_state(start_row_index, start_column_index):\n",
    "        return []\n",
    "    else: \n",
    "        current_row_index, current_column_index = start_row_index, start_column_index\n",
    "        less_conflicted_path = []\n",
    "        less_conflicted_path.append([current_row_index, current_column_index])\n",
    "        #continue moving along the path until we reach the goal \n",
    "        while not is_terminal_state(current_row_index, current_column_index):\n",
    "        #get the best action to take\n",
    "            action_index = get_next_action(current_row_index, current_column_index, 1.)\n",
    "            #move to the next location on the path, and add the new location to the list\n",
    "            current_row_index, current_column_index = get_next_location(current_row_index, current_column_index, action_index)\n",
    "            less_conflicted_path.append([current_row_index, current_column_index])\n",
    "        return less_conflicted_path"
   ]
  },
  {
   "cell_type": "code",
   "execution_count": null,
   "metadata": {},
   "outputs": [],
   "source": [
    "#define training parameters\n",
    "epsilon = 0.9 #the percentage of time when we should take the best action (instead of a random action)\n",
    "discount_factor = 0.9 #discount factor for future rewards\n",
    "learning_rate = 0.9 #the rate at which the AI agent should learn\n",
    "\n",
    "#run through 1000 training episodes\n",
    "for episode in range(1000):\n",
    "    #get the starting location for this episode\n",
    "    row_index, column_index = get_starting_location()\n",
    "    while not is_terminal_state(row_index, column_index):\n",
    "        #choose which action to take (i.e., where to move next)\n",
    "        action_index = get_next_action(row_index, column_index, epsilon)\n",
    "        \n",
    "        #perform the chosen action, and transition to the next state move to the next location)\n",
    "        old_row_index, old_column_index = row_index, column_index #store the old row and column indexes\n",
    "        row_index, column_index = get_next_location(row_index, column_index, action_index)\n",
    "        if is_change_action(row_index, column_index):\n",
    "            action_index = get_next_action(row_index, column_index, epsilon)\n",
    "        #receive the reward for moving to the new state, and calculate the temporal difference\n",
    "        reward = rewards[row_index, column_index]\n",
    "        old_q_value = q_values[old_row_index, old_column_index, action_index]\n",
    "        temporal_difference = reward + (discount_factor * np.max(q_values[row_index, column_index])) - old_q_value\n",
    "\n",
    "        #update the Q-value for the previous state and action pair\n",
    "        new_q_value = old_q_value + (learning_rate * temporal_difference)\n",
    "        q_values[old_row_index, old_column_index, action_index] = new_q_value\n",
    "\n",
    "    print('Training complete!')"
   ]
  },
  {
   "cell_type": "code",
   "execution_count": null,
   "metadata": {},
   "outputs": [],
   "source": [
    "#display a few less conflcited path\n",
    "print(get_the_less_conflicted_path(1, 1)) #starting at row 1, column 1\n"
   ]
  },
  {
   "cell_type": "markdown",
   "metadata": {},
   "source": [
    "At this point with the less conflicted path we would check the states with a Value iteration function"
   ]
  },
  {
   "cell_type": "code",
   "execution_count": null,
   "metadata": {},
   "outputs": [],
   "source": [
    "def value_iteration(env, gamma = 1.0):\n",
    "    value_table = np.zeros(env.observation_space.n)\n",
    "    no_of_iterations = 100000\n",
    "    threshold = 1e-20\n",
    "    for i in range(no_of_iterations):\n",
    "        updated_value_table = np.copy(value_table)\n",
    "        for state in range(env.observation_space.n):\n",
    "            Q_value = []\n",
    "            for action in range(env.action_space.n):\n",
    "                next_states_rewards = []\n",
    "                for next_sr in env.P[state][action]:\n",
    "                    trans_prob, next_state, reward_prob, _ = next_sr\n",
    "                    next_states_rewards.append((trans_prob * (reward_prob +\n",
    "gamma * updated_value_table[next_state])))\n",
    "                Q_value.append(np.sum(next_states_rewards))\n",
    "            value_table[state] = max(Q_value)\n",
    "        if (np.sum(np.fabs(updated_value_table - value_table)) <=\n",
    "threshold):\n",
    "            print ('Value-iteration converged at iteration# %d.' %(i+1))\n",
    "            break\n",
    "    return value_table\n"
   ]
  },
  {
   "cell_type": "code",
   "execution_count": null,
   "metadata": {},
   "outputs": [],
   "source": [
    "def extract_policy(value_table, gamma = 1.0):\n",
    "    policy = np.zeros(env.observation_space.n)\n",
    "    for state in range(env.observation_space.n):\n",
    "        Q_table = np.zeros(env.action_space.n)\n",
    "        for action in range(env.action_space.n):\n",
    "            for next_sr in env.P[state][action]:\n",
    "                trans_prob, next_state, reward_prob, _ = next_sr\n",
    "                Q_table[action] += (trans_prob * (reward_prob + gamma *\n",
    "value_table[next_state]))\n",
    "        policy[state] = np.argmax(Q_table)\n",
    "    return policy"
   ]
  },
  {
   "cell_type": "markdown",
   "metadata": {},
   "source": [
    "And we would use the extract policy func with the value_table of value_iteration func"
   ]
  },
  {
   "cell_type": "code",
   "execution_count": null,
   "metadata": {},
   "outputs": [],
   "source": [
    "optimal_value_function = value_iteration(env=env,gamma=1.0)\n",
    "optimal_policy = extract_policy(optimal_value_function, gamma=1.0)\n",
    "print(optimal_policy)"
   ]
  },
  {
   "cell_type": "markdown",
   "metadata": {},
   "source": [
    "We would get the optimal policy"
   ]
  },
  {
   "cell_type": "code",
   "execution_count": null,
   "metadata": {},
   "outputs": [],
   "source": []
  }
 ],
 "metadata": {
  "kernelspec": {
   "display_name": "Python 3",
   "language": "python",
   "name": "python3"
  },
  "language_info": {
   "codemirror_mode": {
    "name": "ipython",
    "version": 3
   },
   "file_extension": ".py",
   "mimetype": "text/x-python",
   "name": "python",
   "nbconvert_exporter": "python",
   "pygments_lexer": "ipython3",
   "version": "3.8.5"
  }
 },
 "nbformat": 4,
 "nbformat_minor": 4
}
